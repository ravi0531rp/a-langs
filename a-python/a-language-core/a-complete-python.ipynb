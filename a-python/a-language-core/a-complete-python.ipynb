{
 "cells": [
  {
   "attachments": {},
   "cell_type": "markdown",
   "metadata": {},
   "source": [
    "### ✅ Basic Syntax, Inputs, Conditionals, Enumerate And Loops"
   ]
  },
  {
   "cell_type": "code",
   "execution_count": null,
   "metadata": {},
   "outputs": [],
   "source": []
  },
  {
   "attachments": {},
   "cell_type": "markdown",
   "metadata": {},
   "source": [
    "### ✅ Lists, Sets, Tuples, Strings, Dictionaries & Related"
   ]
  },
  {
   "cell_type": "code",
   "execution_count": null,
   "metadata": {},
   "outputs": [],
   "source": []
  },
  {
   "attachments": {},
   "cell_type": "markdown",
   "metadata": {},
   "source": [
    "### ✅ Functions, Lambda and List Comprehensions"
   ]
  },
  {
   "cell_type": "code",
   "execution_count": null,
   "metadata": {},
   "outputs": [],
   "source": []
  },
  {
   "attachments": {},
   "cell_type": "markdown",
   "metadata": {},
   "source": [
    "### ✅ Exceptions : Creating and Handling Them"
   ]
  },
  {
   "cell_type": "code",
   "execution_count": null,
   "metadata": {},
   "outputs": [],
   "source": []
  },
  {
   "attachments": {},
   "cell_type": "markdown",
   "metadata": {},
   "source": [
    "### ✅ File I/O with Different Libraries & Modules"
   ]
  },
  {
   "cell_type": "code",
   "execution_count": null,
   "metadata": {},
   "outputs": [],
   "source": []
  },
  {
   "attachments": {},
   "cell_type": "markdown",
   "metadata": {},
   "source": [
    "### ✅ Decorators"
   ]
  },
  {
   "cell_type": "code",
   "execution_count": 1,
   "metadata": {},
   "outputs": [],
   "source": [
    "import datetime\n",
    "from loguru import logger\n",
    "import time\n",
    "from functools import wraps"
   ]
  },
  {
   "cell_type": "code",
   "execution_count": 2,
   "metadata": {},
   "outputs": [
    {
     "name": "stdout",
     "output_type": "stream",
     "text": [
      "<function f1 at 0x7fbfdf6d9160>\n",
      "Called F1\n"
     ]
    }
   ],
   "source": [
    "def f1():\n",
    "    print(\"Called F1\")\n",
    "\n",
    "def f2(f):\n",
    "    f()\n",
    "\n",
    "print(f1) \n",
    "f2(f1) "
   ]
  },
  {
   "cell_type": "code",
   "execution_count": 3,
   "metadata": {},
   "outputs": [
    {
     "name": "stdout",
     "output_type": "stream",
     "text": [
      "This is some work before the func\n",
      "hello\n",
      "This is some work after the func\n"
     ]
    }
   ],
   "source": [
    "def f1(func):\n",
    "    def wrapper():\n",
    "        print(\"This is some work before the func\")\n",
    "        func()\n",
    "        print(\"This is some work after the func\")\n",
    "    return wrapper\n",
    "\n",
    "def f():\n",
    "    print(\"hello\")\n",
    "\n",
    "x= f1(f)  # decorated f with f1\n",
    "x()"
   ]
  },
  {
   "cell_type": "code",
   "execution_count": 4,
   "metadata": {},
   "outputs": [
    {
     "name": "stdout",
     "output_type": "stream",
     "text": [
      "This is some work before the func\n",
      "hello\n",
      "This is some work after the func\n"
     ]
    }
   ],
   "source": [
    "def f1(func):\n",
    "    def wrapper():\n",
    "        print(\"This is some work before the func\")\n",
    "        func()\n",
    "        print(\"This is some work after the func\")\n",
    "    return wrapper\n",
    "    \n",
    "@f1\n",
    "def f():\n",
    "    print(\"hello\")\n",
    "f()"
   ]
  },
  {
   "cell_type": "code",
   "execution_count": 6,
   "metadata": {},
   "outputs": [
    {
     "name": "stderr",
     "output_type": "stream",
     "text": [
      "2023-05-16 14:53:25.243 | INFO     | __main__:main:12 - Slept for 2 seconds...\n",
      "2023-05-16 14:53:25.245 | DEBUG    | __main__:wrapper:6 - Time taken is 2.006161372999941 seconds...\n"
     ]
    }
   ],
   "source": [
    "def timer(function):\n",
    "    @wraps(function) # optional here\n",
    "    def wrapper():\n",
    "        t1 = time.perf_counter()\n",
    "        function()\n",
    "        t2 = time.perf_counter()\n",
    "        logger.debug(f\"Time taken is {t2-t1} seconds...\")\n",
    "    return wrapper\n",
    "\n",
    "@timer\n",
    "def main():\n",
    "    time.sleep(2)\n",
    "    logger.info(\"Slept for 2 seconds...\")\n",
    "\n",
    "main()"
   ]
  },
  {
   "cell_type": "code",
   "execution_count": 13,
   "metadata": {},
   "outputs": [
    {
     "name": "stderr",
     "output_type": "stream",
     "text": [
      "2023-05-16 15:02:37.610 | INFO     | __main__:wrapper:3 - (2,)\n",
      "2023-05-16 15:02:37.611 | INFO     | __main__:wrapper:5 - Successful\n",
      "2023-05-16 15:02:39.617 | INFO     | __main__:main:17 - Slept for 2 seconds with ID ROUND1\n",
      "2023-05-16 15:02:39.619 | DEBUG    | __main__:wrapper:11 - Time taken is 2.005651622999949 seconds...\n",
      "2023-05-16 15:02:39.620 | INFO     | __main__:<module>:20 - ++++++++++++++++\n",
      "2023-05-16 15:02:39.621 | INFO     | __main__:wrapper:3 - (2, 'ROUND2')\n",
      "2023-05-16 15:02:39.621 | INFO     | __main__:wrapper:5 - Successful\n",
      "2023-05-16 15:02:41.627 | INFO     | __main__:main:17 - Slept for 2 seconds with ID ROUND2\n",
      "2023-05-16 15:02:41.628 | DEBUG    | __main__:wrapper:11 - Time taken is 2.0055156969999643 seconds...\n"
     ]
    }
   ],
   "source": [
    "def timer(func):\n",
    "    def wrapper(*args, **kwargs):\n",
    "        logger.info(args)\n",
    "        if args[0] == 2:\n",
    "            logger.info(\"Successful\")\n",
    "        else:\n",
    "            logger.info(\"Failure\")\n",
    "        t1 = time.perf_counter()\n",
    "        func(*args, **kwargs)\n",
    "        t2 = time.perf_counter()\n",
    "        logger.debug(f\"Time taken is {t2-t1} seconds...\")\n",
    "    return wrapper\n",
    "\n",
    "@timer\n",
    "def main(sleep_duration, id = \"3D4F-H5JJ-3SW1\"):\n",
    "    time.sleep(sleep_duration)\n",
    "    logger.info(f\"Slept for {sleep_duration} seconds with ID {id}\")\n",
    "    \n",
    "main(2, id = \"ROUND1\")\n",
    "logger.info(\"++++++++++++++++\")\n",
    "main(2, \"ROUND2\") "
   ]
  },
  {
   "cell_type": "code",
   "execution_count": 17,
   "metadata": {},
   "outputs": [
    {
     "name": "stderr",
     "output_type": "stream",
     "text": [
      "2023-05-16 15:05:19.716 | DEBUG    | __main__:wrapper:6 - Time taken is 2.004138692999959 seconds...\n",
      "2023-05-16 15:05:19.717 | DEBUG    | __main__:<module>:22 - =========\n",
      "2023-05-16 15:05:21.718 | INFO     | __main__:main:13 - Slept for 2 seconds with ID 3D4F-H5JJ-3SW1\n",
      "2023-05-16 15:05:21.720 | DEBUG    | __main__:wrapper:6 - Time taken is 2.0014227619999474 seconds...\n"
     ]
    },
    {
     "data": {
      "text/plain": [
       "0"
      ]
     },
     "execution_count": 17,
     "metadata": {},
     "output_type": "execute_result"
    }
   ],
   "source": [
    "def timer(func):\n",
    "    def wrapper(*args, **kwargs):\n",
    "        t1 = time.perf_counter()\n",
    "        val = func(*args, **kwargs)\n",
    "        t2 = time.perf_counter()\n",
    "        logger.debug(f\"Time taken is {t2-t1} seconds...\")\n",
    "        return val\n",
    "    return wrapper\n",
    "\n",
    "@timer\n",
    "def main(sleep_duration, id = \"3D4F-H5JJ-3SW1\"):\n",
    "    time.sleep(sleep_duration)\n",
    "    logger.info(f\"Slept for {sleep_duration} seconds with ID {id}\")\n",
    "    return 0\n",
    "\n",
    "@timer   \n",
    "def add(x,y):\n",
    "    time.sleep(2)\n",
    "    return x + y\n",
    "\n",
    "add(2,3)\n",
    "logger.debug(\"=========\")\n",
    "main(2)"
   ]
  },
  {
   "cell_type": "code",
   "execution_count": 39,
   "metadata": {},
   "outputs": [
    {
     "name": "stderr",
     "output_type": "stream",
     "text": [
      "2023-05-16 15:23:33.434 | DEBUG    | __main__:wrapper:17 - {'status': 'Failed'}\n",
      "2023-05-16 15:23:33.436 | INFO     | __main__:make_api_request:24 - Sending Requests...\n",
      "2023-05-16 15:23:33.945 | DEBUG    | __main__:wrapper:19 - {'current_user_url': 'https://api.github.com/user', 'current_user_authorizations_html_url': 'https://github.com/settings/connections/applications{/client_id}', 'authorizations_url': 'https://api.github.com/authorizations', 'code_search_url': 'https://api.github.com/search/code?q={query}{&page,per_page,sort,order}', 'commit_search_url': 'https://api.github.com/search/commits?q={query}{&page,per_page,sort,order}', 'emails_url': 'https://api.github.com/user/emails', 'emojis_url': 'https://api.github.com/emojis', 'events_url': 'https://api.github.com/events', 'feeds_url': 'https://api.github.com/feeds', 'followers_url': 'https://api.github.com/user/followers', 'following_url': 'https://api.github.com/user/following{/target}', 'gists_url': 'https://api.github.com/gists{/gist_id}', 'hub_url': 'https://api.github.com/hub', 'issue_search_url': 'https://api.github.com/search/issues?q={query}{&page,per_page,sort,order}', 'issues_url': 'https://api.github.com/issues', 'keys_url': 'https://api.github.com/user/keys', 'label_search_url': 'https://api.github.com/search/labels?q={query}&repository_id={repository_id}{&page,per_page}', 'notifications_url': 'https://api.github.com/notifications', 'organization_url': 'https://api.github.com/orgs/{org}', 'organization_repositories_url': 'https://api.github.com/orgs/{org}/repos{?type,page,per_page,sort}', 'organization_teams_url': 'https://api.github.com/orgs/{org}/teams', 'public_gists_url': 'https://api.github.com/gists/public', 'rate_limit_url': 'https://api.github.com/rate_limit', 'repository_url': 'https://api.github.com/repos/{owner}/{repo}', 'repository_search_url': 'https://api.github.com/search/repositories?q={query}{&page,per_page,sort,order}', 'current_user_repositories_url': 'https://api.github.com/user/repos{?type,page,per_page,sort}', 'starred_url': 'https://api.github.com/user/starred{/owner}{/repo}', 'starred_gists_url': 'https://api.github.com/gists/starred', 'topic_search_url': 'https://api.github.com/search/topics?q={query}{&page,per_page}', 'user_url': 'https://api.github.com/users/{user}', 'user_organizations_url': 'https://api.github.com/user/orgs', 'user_repositories_url': 'https://api.github.com/users/{user}/repos{?type,page,per_page,sort}', 'user_search_url': 'https://api.github.com/search/users?q={query}{&page,per_page,sort,order}'}\n"
     ]
    }
   ],
   "source": [
    "import requests\n",
    "\n",
    "def check_status_code(func):\n",
    "    @wraps(func)\n",
    "    def wrapper(*args, **kwargs):\n",
    "        response = func(*args, **kwargs)  \n",
    "        if response.status_code == 200:\n",
    "            logger.debug(response.json())\n",
    "        else:\n",
    "            logger.error(f\"Request failed with status code: {response.status_code}\")\n",
    "    return wrapper\n",
    "\n",
    "def check_if_okay(func):\n",
    "    @wraps(func)\n",
    "    def wrapper(*args, **kwargs):\n",
    "        if kwargs.get(\"okay\") != \"YES\":\n",
    "            logger.debug({\"status\" : \"Failed\"})\n",
    "        else:\n",
    "            logger.debug(func(*args, **kwargs).json())\n",
    "    return wrapper\n",
    "\n",
    "@check_if_okay\n",
    "def make_api_request(url, okay=\"YES\"):\n",
    "    logger.info(\"Sending Requests...\")\n",
    "    response = requests.get(url)\n",
    "    return response\n",
    "\n",
    "url = \"https://api.github.com/\"\n",
    "make_api_request(url, okay=\"NO\") # Output -> __main__:wrapper:17 - {'status': 'Failed'}\n",
    "\n",
    "make_api_request(url, okay=\"YES\")\n",
    "\n"
   ]
  },
  {
   "attachments": {},
   "cell_type": "markdown",
   "metadata": {},
   "source": [
    "### ✅ Functools"
   ]
  },
  {
   "cell_type": "code",
   "execution_count": null,
   "metadata": {},
   "outputs": [],
   "source": []
  },
  {
   "cell_type": "code",
   "execution_count": null,
   "metadata": {},
   "outputs": [],
   "source": []
  },
  {
   "cell_type": "code",
   "execution_count": null,
   "metadata": {},
   "outputs": [],
   "source": []
  },
  {
   "cell_type": "code",
   "execution_count": null,
   "metadata": {},
   "outputs": [],
   "source": []
  },
  {
   "cell_type": "code",
   "execution_count": null,
   "metadata": {},
   "outputs": [],
   "source": []
  },
  {
   "cell_type": "code",
   "execution_count": null,
   "metadata": {},
   "outputs": [],
   "source": []
  },
  {
   "cell_type": "code",
   "execution_count": null,
   "metadata": {},
   "outputs": [],
   "source": []
  },
  {
   "cell_type": "code",
   "execution_count": null,
   "metadata": {},
   "outputs": [],
   "source": []
  },
  {
   "cell_type": "code",
   "execution_count": null,
   "metadata": {},
   "outputs": [],
   "source": []
  },
  {
   "cell_type": "code",
   "execution_count": null,
   "metadata": {},
   "outputs": [],
   "source": []
  },
  {
   "cell_type": "code",
   "execution_count": null,
   "metadata": {},
   "outputs": [],
   "source": []
  },
  {
   "cell_type": "code",
   "execution_count": null,
   "metadata": {},
   "outputs": [],
   "source": []
  },
  {
   "cell_type": "code",
   "execution_count": null,
   "metadata": {},
   "outputs": [],
   "source": []
  },
  {
   "cell_type": "code",
   "execution_count": null,
   "metadata": {},
   "outputs": [],
   "source": []
  },
  {
   "cell_type": "code",
   "execution_count": null,
   "metadata": {},
   "outputs": [],
   "source": []
  },
  {
   "cell_type": "code",
   "execution_count": null,
   "metadata": {},
   "outputs": [],
   "source": []
  },
  {
   "cell_type": "code",
   "execution_count": null,
   "metadata": {},
   "outputs": [],
   "source": []
  },
  {
   "cell_type": "code",
   "execution_count": null,
   "metadata": {},
   "outputs": [],
   "source": []
  },
  {
   "cell_type": "code",
   "execution_count": null,
   "metadata": {},
   "outputs": [],
   "source": []
  },
  {
   "cell_type": "code",
   "execution_count": null,
   "metadata": {},
   "outputs": [],
   "source": []
  },
  {
   "cell_type": "code",
   "execution_count": null,
   "metadata": {},
   "outputs": [],
   "source": []
  },
  {
   "cell_type": "code",
   "execution_count": null,
   "metadata": {},
   "outputs": [],
   "source": []
  },
  {
   "cell_type": "code",
   "execution_count": null,
   "metadata": {},
   "outputs": [],
   "source": []
  },
  {
   "cell_type": "code",
   "execution_count": null,
   "metadata": {},
   "outputs": [],
   "source": []
  },
  {
   "cell_type": "code",
   "execution_count": null,
   "metadata": {},
   "outputs": [],
   "source": []
  },
  {
   "cell_type": "code",
   "execution_count": null,
   "metadata": {},
   "outputs": [],
   "source": []
  },
  {
   "cell_type": "code",
   "execution_count": null,
   "metadata": {},
   "outputs": [],
   "source": []
  },
  {
   "cell_type": "code",
   "execution_count": null,
   "metadata": {},
   "outputs": [],
   "source": []
  }
 ],
 "metadata": {
  "kernelspec": {
   "display_name": "DataScienceML",
   "language": "python",
   "name": "python3"
  },
  "language_info": {
   "codemirror_mode": {
    "name": "ipython",
    "version": 3
   },
   "file_extension": ".py",
   "mimetype": "text/x-python",
   "name": "python",
   "nbconvert_exporter": "python",
   "pygments_lexer": "ipython3",
   "version": "3.9.15"
  },
  "orig_nbformat": 4
 },
 "nbformat": 4,
 "nbformat_minor": 2
}
