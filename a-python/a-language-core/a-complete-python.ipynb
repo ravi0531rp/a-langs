{
 "cells": [
  {
   "attachments": {},
   "cell_type": "markdown",
   "metadata": {},
   "source": [
    "### ✅ Basic Syntax, Inputs, Conditionals, Enumerate And Loops"
   ]
  },
  {
   "cell_type": "code",
   "execution_count": null,
   "metadata": {},
   "outputs": [],
   "source": []
  },
  {
   "attachments": {},
   "cell_type": "markdown",
   "metadata": {},
   "source": [
    "### ✅ Lists, Sets, Tuples, Strings, Dictionaries & Related"
   ]
  },
  {
   "cell_type": "code",
   "execution_count": null,
   "metadata": {},
   "outputs": [],
   "source": []
  },
  {
   "attachments": {},
   "cell_type": "markdown",
   "metadata": {},
   "source": [
    "### ✅ Functions, Lambda and List Comprehensions"
   ]
  },
  {
   "cell_type": "code",
   "execution_count": null,
   "metadata": {},
   "outputs": [],
   "source": []
  },
  {
   "attachments": {},
   "cell_type": "markdown",
   "metadata": {},
   "source": [
    "### ✅ Exceptions : Creating and Handling Them"
   ]
  },
  {
   "cell_type": "code",
   "execution_count": null,
   "metadata": {},
   "outputs": [],
   "source": []
  },
  {
   "attachments": {},
   "cell_type": "markdown",
   "metadata": {},
   "source": [
    "### ✅ File I/O with Different Libraries & Modules"
   ]
  },
  {
   "cell_type": "code",
   "execution_count": null,
   "metadata": {},
   "outputs": [],
   "source": []
  },
  {
   "attachments": {},
   "cell_type": "markdown",
   "metadata": {},
   "source": [
    "### ✅ Generators"
   ]
  },
  {
   "cell_type": "code",
   "execution_count": 1,
   "metadata": {},
   "outputs": [],
   "source": [
    "def generate_numbers(num : int, power : int) -> int:\n",
    "    for i in range(num):\n",
    "        yield i**power"
   ]
  },
  {
   "cell_type": "code",
   "execution_count": 2,
   "metadata": {},
   "outputs": [
    {
     "name": "stdout",
     "output_type": "stream",
     "text": [
      "[0, 1, 4, 9, 16]\n"
     ]
    }
   ],
   "source": [
    "print(list(generate_numbers(5, 2)))"
   ]
  },
  {
   "cell_type": "code",
   "execution_count": 3,
   "metadata": {},
   "outputs": [
    {
     "name": "stdout",
     "output_type": "stream",
     "text": [
      "0\n",
      "1\n",
      "4\n"
     ]
    }
   ],
   "source": [
    "gen = generate_numbers(5, 2)\n",
    "print(next(gen))\n",
    "print(next(gen))\n",
    "print(next(gen))"
   ]
  },
  {
   "attachments": {},
   "cell_type": "markdown",
   "metadata": {},
   "source": [
    "<h4> A More Detailed Example </h4>\n",
    "\n",
    "* An elegant example where simple List comprehension would crash the RAM. \n",
    "* But, using generators in combination with multiprocessing queue saves the day\n",
    "* In the below example, I am trying to find out the best possible threshold parameters for model output rounding"
   ]
  },
  {
   "cell_type": "code",
   "execution_count": 5,
   "metadata": {},
   "outputs": [],
   "source": [
    "import numpy as np\n",
    "import pandas as pd\n",
    "from loguru import logger\n",
    "from itertools import product\n",
    "from sklearn.model_selection import train_test_split\n",
    "from loguru import logger\n",
    "import multiprocessing\n",
    "import os\n",
    "import traceback"
   ]
  },
  {
   "attachments": {},
   "cell_type": "markdown",
   "metadata": {},
   "source": [
    "##### Some clarity before going to the example\n",
    "* Snippets similar to next cell will be used in code and things get confusing when generators are involved"
   ]
  },
  {
   "cell_type": "code",
   "execution_count": 10,
   "metadata": {},
   "outputs": [
    {
     "name": "stdout",
     "output_type": "stream",
     "text": [
      "Dummies -> [[0.27, 0.5700000000000001, 0.8700000000000001], [1.27, 1.57, 1.87]]\n",
      "[(0.27, 1.27), (0.27, 1.57), (0.27, 1.87), (0.5700000000000001, 1.27), (0.5700000000000001, 1.57), (0.5700000000000001, 1.87), (0.8700000000000001, 1.27), (0.8700000000000001, 1.57), (0.8700000000000001, 1.87)]\n"
     ]
    }
   ],
   "source": [
    "dummies = [np.arange(i + 0.27, i + 0.90, 0.30).tolist() for i in range(2)] # I put 2 here because it is low number\n",
    "print(f\"Dummies -> {dummies}\")\n",
    "combinations = list(product(*dummies))\n",
    "print(combinations) # see , it generates all the outputs because we used list() ; Imagine the number when we have range(12) instead of range(2)"
   ]
  },
  {
   "cell_type": "code",
   "execution_count": null,
   "metadata": {},
   "outputs": [],
   "source": [
    "def within_2unit_diff(gt,pred):\n",
    "    abs_diff = np.absolute(gt - pred)\n",
    "    filler = np.zeros_like(abs_diff)\n",
    "    class_indices = np.where(abs_diff <= 2)[0]\n",
    "    filler[class_indices] = 1\n",
    "    return np.sum(filler)/len(gt)\n",
    "\n",
    "\n",
    "df = pd.read_csv(\"some path\")\n",
    "train, valid = train_test_split(df, test_size=0.2, random_state=42)\n",
    "X_train, X_test, y_train, y_test  = train[\"pitch\"], valid[\"pitch\"],train[\"label_pred\"], valid[\"label_pred\"]\n",
    "\n",
    "X_train = X_train.tolist()\n",
    "X_test = X_test.tolist()\n",
    "y_train = y_train.tolist()\n",
    "y_test = y_test.tolist()\n",
    "\n",
    "classes = set(X_train)\n",
    "num_classes = len(classes) # say 12\n",
    "\n",
    "dummies = [np.arange(i + 0.27, i + 0.90, 0.30).tolist() for i in range(num_classes)] # [0.27, 0.57, 0.87] are base values on which 'i' would get added to generate combinations\n",
    "\n",
    "def generate_combinations(*lists):\n",
    "    combinations = product(*lists) # gives all possible combinations\n",
    "    for combo in combinations:\n",
    "        yield combo\n",
    "\n",
    "def generate_combinations_and_put(queue, *lists):\n",
    "    combinations = list(generate_combinations(*lists))\n",
    "    queue.put(combinations)\n",
    "\n",
    "def get_scores(generator):\n",
    "    best_score  = 0\n",
    "    best_thresh = []\n",
    "    counter = 0\n",
    "    for combo in generator:\n",
    "        counter += 1\n",
    "        current_thresholds = combo\n",
    "        bins = np.digitize(y_train, current_thresholds)\n",
    "        score = within_2unit_diff(np.array(X_train), np.array(bins))\n",
    "        if score > best_score:\n",
    "            best_score = score\n",
    "            best_thresh = current_thresholds\n",
    "        if not counter%100:\n",
    "            logger.debug(f\"pid : {os.getpid()} ; processed : {counter} ; best_score : {best_score} ; best_thresh : {best_thresh}\")\n",
    "\n",
    "    return best_score, best_thresh\n",
    "\n",
    "queue = multiprocessing.Queue()\n",
    "\n",
    "generator_process = multiprocessing.Process(target=generate_combinations_and_put, args=(queue, *dummies))\n",
    "generator_process.start()\n",
    "\n",
    "combos = queue.get(timeout=60)\n",
    "generator_process.join()\n",
    "\n",
    "num_procs  = 50\n",
    "pool = multiprocessing.Pool(processes=num_procs)\n",
    "chunksize = len(combos) // num_procs\n",
    "\n",
    "try:\n",
    "    results = pool.map(get_scores, [combos[i:i+chunksize] for i in range(0, len(combos), chunksize)])\n",
    "except Exception as e:\n",
    "    traceback.print_exc()\n",
    "\n",
    "\n",
    "logger.debug(results)\n",
    "sc = [res[0] for res in results]\n",
    "th = [res[1] for res in results]\n",
    "\n",
    "sc_max_ix = np.argmax(np.array(sc))\n",
    "logger.debug(sc[sc_max_ix])\n",
    "logger.debug(th[sc_max_ix])"
   ]
  },
  {
   "attachments": {},
   "cell_type": "markdown",
   "metadata": {},
   "source": [
    "### ✅ Decorators"
   ]
  },
  {
   "cell_type": "code",
   "execution_count": 1,
   "metadata": {},
   "outputs": [],
   "source": [
    "import datetime\n",
    "from loguru import logger\n",
    "import time\n",
    "from functools import wraps"
   ]
  },
  {
   "cell_type": "code",
   "execution_count": 2,
   "metadata": {},
   "outputs": [
    {
     "name": "stdout",
     "output_type": "stream",
     "text": [
      "<function f1 at 0x7fbfdf6d9160>\n",
      "Called F1\n"
     ]
    }
   ],
   "source": [
    "def f1():\n",
    "    print(\"Called F1\")\n",
    "\n",
    "def f2(f):\n",
    "    f()\n",
    "\n",
    "print(f1) \n",
    "f2(f1) "
   ]
  },
  {
   "cell_type": "code",
   "execution_count": 3,
   "metadata": {},
   "outputs": [
    {
     "name": "stdout",
     "output_type": "stream",
     "text": [
      "This is some work before the func\n",
      "hello\n",
      "This is some work after the func\n"
     ]
    }
   ],
   "source": [
    "def f1(func):\n",
    "    def wrapper():\n",
    "        print(\"This is some work before the func\")\n",
    "        func()\n",
    "        print(\"This is some work after the func\")\n",
    "    return wrapper\n",
    "\n",
    "def f():\n",
    "    print(\"hello\")\n",
    "\n",
    "x= f1(f)  # decorated f with f1\n",
    "x()"
   ]
  },
  {
   "cell_type": "code",
   "execution_count": 4,
   "metadata": {},
   "outputs": [
    {
     "name": "stdout",
     "output_type": "stream",
     "text": [
      "This is some work before the func\n",
      "hello\n",
      "This is some work after the func\n"
     ]
    }
   ],
   "source": [
    "def f1(func):\n",
    "    def wrapper():\n",
    "        print(\"This is some work before the func\")\n",
    "        func()\n",
    "        print(\"This is some work after the func\")\n",
    "    return wrapper\n",
    "    \n",
    "@f1\n",
    "def f():\n",
    "    print(\"hello\")\n",
    "f()"
   ]
  },
  {
   "cell_type": "code",
   "execution_count": 6,
   "metadata": {},
   "outputs": [
    {
     "name": "stderr",
     "output_type": "stream",
     "text": [
      "2023-05-16 14:53:25.243 | INFO     | __main__:main:12 - Slept for 2 seconds...\n",
      "2023-05-16 14:53:25.245 | DEBUG    | __main__:wrapper:6 - Time taken is 2.006161372999941 seconds...\n"
     ]
    }
   ],
   "source": [
    "def timer(function):\n",
    "    @wraps(function) # optional here\n",
    "    def wrapper():\n",
    "        t1 = time.perf_counter()\n",
    "        function()\n",
    "        t2 = time.perf_counter()\n",
    "        logger.debug(f\"Time taken is {t2-t1} seconds...\")\n",
    "    return wrapper\n",
    "\n",
    "@timer\n",
    "def main():\n",
    "    time.sleep(2)\n",
    "    logger.info(\"Slept for 2 seconds...\")\n",
    "\n",
    "main()"
   ]
  },
  {
   "cell_type": "code",
   "execution_count": 13,
   "metadata": {},
   "outputs": [
    {
     "name": "stderr",
     "output_type": "stream",
     "text": [
      "2023-05-16 15:02:37.610 | INFO     | __main__:wrapper:3 - (2,)\n",
      "2023-05-16 15:02:37.611 | INFO     | __main__:wrapper:5 - Successful\n",
      "2023-05-16 15:02:39.617 | INFO     | __main__:main:17 - Slept for 2 seconds with ID ROUND1\n",
      "2023-05-16 15:02:39.619 | DEBUG    | __main__:wrapper:11 - Time taken is 2.005651622999949 seconds...\n",
      "2023-05-16 15:02:39.620 | INFO     | __main__:<module>:20 - ++++++++++++++++\n",
      "2023-05-16 15:02:39.621 | INFO     | __main__:wrapper:3 - (2, 'ROUND2')\n",
      "2023-05-16 15:02:39.621 | INFO     | __main__:wrapper:5 - Successful\n",
      "2023-05-16 15:02:41.627 | INFO     | __main__:main:17 - Slept for 2 seconds with ID ROUND2\n",
      "2023-05-16 15:02:41.628 | DEBUG    | __main__:wrapper:11 - Time taken is 2.0055156969999643 seconds...\n"
     ]
    }
   ],
   "source": [
    "def timer(func):\n",
    "    def wrapper(*args, **kwargs):\n",
    "        logger.info(args)\n",
    "        if args[0] == 2:\n",
    "            logger.info(\"Successful\")\n",
    "        else:\n",
    "            logger.info(\"Failure\")\n",
    "        t1 = time.perf_counter()\n",
    "        func(*args, **kwargs)\n",
    "        t2 = time.perf_counter()\n",
    "        logger.debug(f\"Time taken is {t2-t1} seconds...\")\n",
    "    return wrapper\n",
    "\n",
    "@timer\n",
    "def main(sleep_duration, id = \"3D4F-H5JJ-3SW1\"):\n",
    "    time.sleep(sleep_duration)\n",
    "    logger.info(f\"Slept for {sleep_duration} seconds with ID {id}\")\n",
    "    \n",
    "main(2, id = \"ROUND1\")\n",
    "logger.info(\"++++++++++++++++\")\n",
    "main(2, \"ROUND2\") "
   ]
  },
  {
   "cell_type": "code",
   "execution_count": 17,
   "metadata": {},
   "outputs": [
    {
     "name": "stderr",
     "output_type": "stream",
     "text": [
      "2023-05-16 15:05:19.716 | DEBUG    | __main__:wrapper:6 - Time taken is 2.004138692999959 seconds...\n",
      "2023-05-16 15:05:19.717 | DEBUG    | __main__:<module>:22 - =========\n",
      "2023-05-16 15:05:21.718 | INFO     | __main__:main:13 - Slept for 2 seconds with ID 3D4F-H5JJ-3SW1\n",
      "2023-05-16 15:05:21.720 | DEBUG    | __main__:wrapper:6 - Time taken is 2.0014227619999474 seconds...\n"
     ]
    },
    {
     "data": {
      "text/plain": [
       "0"
      ]
     },
     "execution_count": 17,
     "metadata": {},
     "output_type": "execute_result"
    }
   ],
   "source": [
    "def timer(func):\n",
    "    def wrapper(*args, **kwargs):\n",
    "        t1 = time.perf_counter()\n",
    "        val = func(*args, **kwargs)\n",
    "        t2 = time.perf_counter()\n",
    "        logger.debug(f\"Time taken is {t2-t1} seconds...\")\n",
    "        return val\n",
    "    return wrapper\n",
    "\n",
    "@timer\n",
    "def main(sleep_duration, id = \"3D4F-H5JJ-3SW1\"):\n",
    "    time.sleep(sleep_duration)\n",
    "    logger.info(f\"Slept for {sleep_duration} seconds with ID {id}\")\n",
    "    return 0\n",
    "\n",
    "@timer   \n",
    "def add(x,y):\n",
    "    time.sleep(2)\n",
    "    return x + y\n",
    "\n",
    "add(2,3)\n",
    "logger.debug(\"=========\")\n",
    "main(2)"
   ]
  },
  {
   "cell_type": "code",
   "execution_count": 39,
   "metadata": {},
   "outputs": [
    {
     "name": "stderr",
     "output_type": "stream",
     "text": [
      "2023-05-16 15:23:33.434 | DEBUG    | __main__:wrapper:17 - {'status': 'Failed'}\n",
      "2023-05-16 15:23:33.436 | INFO     | __main__:make_api_request:24 - Sending Requests...\n",
      "2023-05-16 15:23:33.945 | DEBUG    | __main__:wrapper:19 - {'current_user_url': 'https://api.github.com/user', 'current_user_authorizations_html_url': 'https://github.com/settings/connections/applications{/client_id}', 'authorizations_url': 'https://api.github.com/authorizations', 'code_search_url': 'https://api.github.com/search/code?q={query}{&page,per_page,sort,order}', 'commit_search_url': 'https://api.github.com/search/commits?q={query}{&page,per_page,sort,order}', 'emails_url': 'https://api.github.com/user/emails', 'emojis_url': 'https://api.github.com/emojis', 'events_url': 'https://api.github.com/events', 'feeds_url': 'https://api.github.com/feeds', 'followers_url': 'https://api.github.com/user/followers', 'following_url': 'https://api.github.com/user/following{/target}', 'gists_url': 'https://api.github.com/gists{/gist_id}', 'hub_url': 'https://api.github.com/hub', 'issue_search_url': 'https://api.github.com/search/issues?q={query}{&page,per_page,sort,order}', 'issues_url': 'https://api.github.com/issues', 'keys_url': 'https://api.github.com/user/keys', 'label_search_url': 'https://api.github.com/search/labels?q={query}&repository_id={repository_id}{&page,per_page}', 'notifications_url': 'https://api.github.com/notifications', 'organization_url': 'https://api.github.com/orgs/{org}', 'organization_repositories_url': 'https://api.github.com/orgs/{org}/repos{?type,page,per_page,sort}', 'organization_teams_url': 'https://api.github.com/orgs/{org}/teams', 'public_gists_url': 'https://api.github.com/gists/public', 'rate_limit_url': 'https://api.github.com/rate_limit', 'repository_url': 'https://api.github.com/repos/{owner}/{repo}', 'repository_search_url': 'https://api.github.com/search/repositories?q={query}{&page,per_page,sort,order}', 'current_user_repositories_url': 'https://api.github.com/user/repos{?type,page,per_page,sort}', 'starred_url': 'https://api.github.com/user/starred{/owner}{/repo}', 'starred_gists_url': 'https://api.github.com/gists/starred', 'topic_search_url': 'https://api.github.com/search/topics?q={query}{&page,per_page}', 'user_url': 'https://api.github.com/users/{user}', 'user_organizations_url': 'https://api.github.com/user/orgs', 'user_repositories_url': 'https://api.github.com/users/{user}/repos{?type,page,per_page,sort}', 'user_search_url': 'https://api.github.com/search/users?q={query}{&page,per_page,sort,order}'}\n"
     ]
    }
   ],
   "source": [
    "import requests\n",
    "\n",
    "def check_status_code(func):\n",
    "    @wraps(func)\n",
    "    def wrapper(*args, **kwargs):\n",
    "        response = func(*args, **kwargs)  \n",
    "        if response.status_code == 200:\n",
    "            logger.debug(response.json())\n",
    "        else:\n",
    "            logger.error(f\"Request failed with status code: {response.status_code}\")\n",
    "    return wrapper\n",
    "\n",
    "def check_if_okay(func):\n",
    "    @wraps(func)\n",
    "    def wrapper(*args, **kwargs):\n",
    "        if kwargs.get(\"okay\") != \"YES\":\n",
    "            logger.debug({\"status\" : \"Failed\"})\n",
    "        else:\n",
    "            logger.debug(func(*args, **kwargs).json())\n",
    "    return wrapper\n",
    "\n",
    "@check_if_okay\n",
    "def make_api_request(url, okay=\"YES\"):\n",
    "    logger.info(\"Sending Requests...\")\n",
    "    response = requests.get(url)\n",
    "    return response\n",
    "\n",
    "url = \"https://api.github.com/\"\n",
    "make_api_request(url, okay=\"NO\") # Output -> __main__:wrapper:17 - {'status': 'Failed'}\n",
    "\n",
    "make_api_request(url, okay=\"YES\")\n",
    "\n"
   ]
  },
  {
   "attachments": {},
   "cell_type": "markdown",
   "metadata": {},
   "source": [
    "### ✅ Functools"
   ]
  },
  {
   "cell_type": "code",
   "execution_count": 43,
   "metadata": {},
   "outputs": [],
   "source": [
    "from functools import reduce"
   ]
  },
  {
   "cell_type": "code",
   "execution_count": 45,
   "metadata": {},
   "outputs": [
    {
     "data": {
      "text/plain": [
       "24"
      ]
     },
     "execution_count": 45,
     "metadata": {},
     "output_type": "execute_result"
    }
   ],
   "source": [
    "reduce(lambda x,y : x*y ,[2,3,4])"
   ]
  },
  {
   "cell_type": "code",
   "execution_count": 49,
   "metadata": {},
   "outputs": [
    {
     "name": "stdout",
     "output_type": "stream",
     "text": [
      "5\n",
      "10\n"
     ]
    }
   ],
   "source": [
    "print(reduce(lambda x,y : max(x,y) , [1,2,3,4,5])) \n",
    "print(reduce(lambda x,y : max(x,y) , [1,2,3,4,5] , 10)) # 10 is the initializer ; hence (10,1) is the first pair"
   ]
  },
  {
   "cell_type": "code",
   "execution_count": null,
   "metadata": {},
   "outputs": [],
   "source": []
  },
  {
   "attachments": {},
   "cell_type": "markdown",
   "metadata": {},
   "source": [
    "### ✅ Collections"
   ]
  },
  {
   "cell_type": "code",
   "execution_count": 50,
   "metadata": {},
   "outputs": [],
   "source": [
    "from collections import Counter"
   ]
  },
  {
   "cell_type": "code",
   "execution_count": 51,
   "metadata": {},
   "outputs": [
    {
     "name": "stdout",
     "output_type": "stream",
     "text": [
      "Counter({'a': 7, 'b': 4, 'd': 4, 's': 3})\n",
      "dict_keys(['a', 'b', 's', 'd'])\n",
      "dict_values([7, 4, 3, 4])\n",
      "[('a', 7), ('b', 4), ('d', 4), ('s', 3)]\n",
      "[('a', 7), ('b', 4)]\n"
     ]
    }
   ],
   "source": [
    "a = \"aaaabbbbsssaaadddd\"\n",
    "my_counter = Counter(a)\n",
    "\n",
    "print(my_counter)\n",
    "\n",
    "print(my_counter.keys()) \n",
    "print(my_counter.values())  \n",
    "print(my_counter.most_common())\n",
    "print(my_counter.most_common(2))\n",
    "\n"
   ]
  },
  {
   "cell_type": "code",
   "execution_count": 52,
   "metadata": {},
   "outputs": [],
   "source": [
    "from collections import namedtuple"
   ]
  },
  {
   "cell_type": "code",
   "execution_count": 53,
   "metadata": {},
   "outputs": [
    {
     "name": "stdout",
     "output_type": "stream",
     "text": [
      "Point(x=1, y=-4)\n",
      "1 -4\n"
     ]
    }
   ],
   "source": [
    "Point = namedtuple('Point', 'x,y')\n",
    "pt = Point(1,-4)\n",
    "\n",
    "print(pt)\n",
    "print(pt.x , pt.y)"
   ]
  },
  {
   "cell_type": "code",
   "execution_count": 54,
   "metadata": {},
   "outputs": [],
   "source": [
    "from collections import defaultdict"
   ]
  },
  {
   "cell_type": "code",
   "execution_count": 55,
   "metadata": {},
   "outputs": [
    {
     "name": "stdout",
     "output_type": "stream",
     "text": [
      "defaultdict(<class 'int'>, {'a': 1, 'b': 2})\n",
      "0\n",
      "defaultdict(<class 'int'>, {'a': 1, 'b': 2, 'c': 0})\n"
     ]
    }
   ],
   "source": [
    "d = defaultdict(int)\n",
    "\n",
    "d['a'] = 1\n",
    "d['b'] = 2\n",
    "\n",
    "print(d)\n",
    "\n",
    "print(d['c'])  # see, we hadn't even assigned any val for 'c'\n",
    "\n",
    "print(d)\n"
   ]
  },
  {
   "cell_type": "code",
   "execution_count": 56,
   "metadata": {},
   "outputs": [],
   "source": [
    "from collections import deque # double ended queue"
   ]
  },
  {
   "cell_type": "code",
   "execution_count": 57,
   "metadata": {},
   "outputs": [
    {
     "name": "stdout",
     "output_type": "stream",
     "text": [
      "deque([1, 2, 2, 3])\n",
      "deque([-1, 1, 2, 2, 3])\n",
      "deque([-1, 1, 2, 2])\n",
      "deque([1, 2, 2])\n",
      "deque([1, 2, 2, 4, 5, 6])\n",
      "deque([0, 0, 1, 2, 2, 4, 5, 6])\n",
      "deque([6, 0, 0, 1, 2, 2, 4, 5])\n",
      "deque([4, 5, 6, 0, 0, 1, 2, 2])\n",
      "deque([5, 6, 0, 0, 1, 2, 2, 4])\n"
     ]
    }
   ],
   "source": [
    "d = deque()\n",
    "\n",
    "d.append(1)\n",
    "d.append(2)\n",
    "d.append(2)\n",
    "d.append(3)\n",
    "print(d)\n",
    "\n",
    "d.appendleft(-1)\n",
    "print(d)\n",
    "\n",
    "d.pop()\n",
    "print(d)\n",
    "\n",
    "d.popleft()\n",
    "print(d)\n",
    "\n",
    "d.extend([4,5,6])\n",
    "print(d)\n",
    "\n",
    "d.extendleft([0,0])\n",
    "print(d)\n",
    "\n",
    "d.rotate(1)\n",
    "print(d)\n",
    "\n",
    "d.rotate(2)\n",
    "print(d)\n",
    "\n",
    "d.rotate(-1)\n",
    "print(d)"
   ]
  },
  {
   "attachments": {},
   "cell_type": "markdown",
   "metadata": {},
   "source": [
    "### ✅ Heapq\n",
    "* Implements min heap in Python\n",
    "* Binary Heap Data Structure\n",
    "* Helpful to implement Priority Queues"
   ]
  },
  {
   "cell_type": "code",
   "execution_count": 58,
   "metadata": {},
   "outputs": [],
   "source": [
    "import heapq"
   ]
  },
  {
   "cell_type": "code",
   "execution_count": 59,
   "metadata": {},
   "outputs": [],
   "source": [
    "heap = []\n",
    "heapq.heappush(heap, 2)\n",
    "heapq.heappush(heap, 3)\n",
    "heapq.heappush(heap, 1)\n",
    "heapq.heappush(heap, 6)\n",
    "heapq.heappush(heap, -1)"
   ]
  },
  {
   "cell_type": "code",
   "execution_count": 60,
   "metadata": {},
   "outputs": [
    {
     "data": {
      "text/plain": [
       "[-1, 1, 2, 6, 3]"
      ]
     },
     "execution_count": 60,
     "metadata": {},
     "output_type": "execute_result"
    }
   ],
   "source": [
    "heap"
   ]
  },
  {
   "cell_type": "code",
   "execution_count": 61,
   "metadata": {},
   "outputs": [
    {
     "name": "stdout",
     "output_type": "stream",
     "text": [
      "-1\n",
      "[1, 3, 2, 6]\n"
     ]
    }
   ],
   "source": [
    "a = heapq.heappop(heap)\n",
    "print(a)\n",
    "print(heap)"
   ]
  },
  {
   "cell_type": "code",
   "execution_count": 62,
   "metadata": {},
   "outputs": [
    {
     "name": "stdout",
     "output_type": "stream",
     "text": [
      "1\n",
      "[2, 3, 6]\n"
     ]
    }
   ],
   "source": [
    "a = heapq.heappop(heap)\n",
    "print(a)\n",
    "print(heap)"
   ]
  },
  {
   "cell_type": "code",
   "execution_count": 63,
   "metadata": {},
   "outputs": [
    {
     "name": "stdout",
     "output_type": "stream",
     "text": [
      "[-128, 4, -1, 6, 99, 2]\n"
     ]
    }
   ],
   "source": [
    "## heapify -> convert the given list to binary heap\n",
    "\n",
    "a = [2,4,-1,6,99,-128]\n",
    "heapq.heapify(a) # inplace operation\n",
    "print(a)"
   ]
  },
  {
   "cell_type": "code",
   "execution_count": 64,
   "metadata": {},
   "outputs": [
    {
     "data": {
      "text/plain": [
       "[-128, -1]"
      ]
     },
     "execution_count": 64,
     "metadata": {},
     "output_type": "execute_result"
    }
   ],
   "source": [
    "heapq.nsmallest(2, a)"
   ]
  },
  {
   "cell_type": "code",
   "execution_count": 65,
   "metadata": {},
   "outputs": [
    {
     "data": {
      "text/plain": [
       "[99, 6]"
      ]
     },
     "execution_count": 65,
     "metadata": {},
     "output_type": "execute_result"
    }
   ],
   "source": [
    "heapq.nlargest(2, a)"
   ]
  },
  {
   "cell_type": "code",
   "execution_count": null,
   "metadata": {},
   "outputs": [],
   "source": []
  },
  {
   "cell_type": "code",
   "execution_count": null,
   "metadata": {},
   "outputs": [],
   "source": []
  },
  {
   "cell_type": "code",
   "execution_count": null,
   "metadata": {},
   "outputs": [],
   "source": []
  },
  {
   "cell_type": "code",
   "execution_count": null,
   "metadata": {},
   "outputs": [],
   "source": []
  },
  {
   "cell_type": "code",
   "execution_count": null,
   "metadata": {},
   "outputs": [],
   "source": []
  },
  {
   "cell_type": "code",
   "execution_count": null,
   "metadata": {},
   "outputs": [],
   "source": []
  }
 ],
 "metadata": {
  "kernelspec": {
   "display_name": "DataScienceML",
   "language": "python",
   "name": "python3"
  },
  "language_info": {
   "codemirror_mode": {
    "name": "ipython",
    "version": 3
   },
   "file_extension": ".py",
   "mimetype": "text/x-python",
   "name": "python",
   "nbconvert_exporter": "python",
   "pygments_lexer": "ipython3",
   "version": "3.9.15"
  },
  "orig_nbformat": 4
 },
 "nbformat": 4,
 "nbformat_minor": 2
}
