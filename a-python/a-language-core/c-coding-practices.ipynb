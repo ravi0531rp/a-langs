{
 "cells": [
  {
   "attachments": {},
   "cell_type": "markdown",
   "metadata": {},
   "source": [
    "## A. Data Classes"
   ]
  },
  {
   "attachments": {},
   "cell_type": "markdown",
   "metadata": {},
   "source": [
    "#### Normal Method"
   ]
  },
  {
   "cell_type": "code",
   "execution_count": 1,
   "metadata": {},
   "outputs": [
    {
     "name": "stdout",
     "output_type": "stream",
     "text": [
      "<__main__.Investor object at 0x7fbb48e7c1f0>\n"
     ]
    }
   ],
   "source": [
    "class Investor(object):\n",
    "    def __init__(self, name : str, age : int , cash : float):\n",
    "        self.name = name\n",
    "        self.age = age\n",
    "        self.cash = cash\n",
    "    \n",
    "i1 = Investor(\"John\", 30, 990002.78)\n",
    "i2 = Investor(\"Ana\", 24, 200000.78)\n",
    "i3 = Investor(\"Bob\", 41, 30002.78)\n",
    "i4 = Investor(\"Ravi\", 25, 22990002.78)\n",
    "\n",
    "print(i1)"
   ]
  },
  {
   "cell_type": "code",
   "execution_count": 4,
   "metadata": {},
   "outputs": [
    {
     "name": "stdout",
     "output_type": "stream",
     "text": [
      "Name is John\n",
      "True\n",
      "False\n"
     ]
    }
   ],
   "source": [
    "class Investor(object):\n",
    "    def __init__(self, name : str, age : int , cash : float):\n",
    "        self.name = name\n",
    "        self.age = age\n",
    "        self.cash = cash\n",
    "\n",
    "    def __repr__(self): # Manually Implement the Representation\n",
    "        return f\"Name is {self.name}\"\n",
    "    \n",
    "    def __eq__(self, other):\n",
    "        return self.name == other.name\n",
    "    \n",
    "    def __lt__(self, other):\n",
    "        return self.cash < other.cash\n",
    "    \n",
    "i1 = Investor(\"John\", 30, 990002.78)\n",
    "i2 = Investor(\"Ana\", 24, 200000.78)\n",
    "i3 = Investor(\"Bob\", 41, 30002.78)\n",
    "i4 = Investor(\"Ravi\", 25, 22990002.78)\n",
    "i5 = Investor(\"John\", 30, 990002.78)\n",
    "\n",
    "print(i1)\n",
    "\n",
    "print(i1 == i5) # Every custom thing has to be implemented\n",
    "print(i1 < i5) # This becomes a headache if more stuff gets in"
   ]
  },
  {
   "attachments": {},
   "cell_type": "markdown",
   "metadata": {},
   "source": [
    "#### Using Data Classes"
   ]
  },
  {
   "cell_type": "code",
   "execution_count": 9,
   "metadata": {},
   "outputs": [
    {
     "name": "stdout",
     "output_type": "stream",
     "text": [
      "Investor(name='John', age=30, cash=990002.78)\n",
      "False\n",
      "True\n"
     ]
    }
   ],
   "source": [
    "from dataclasses import dataclass\n",
    "\n",
    "@dataclass\n",
    "class Investor:\n",
    "    name : str\n",
    "    age : int\n",
    "    cash : float\n",
    "\n",
    "\n",
    "i1 = Investor(\"John\", 30, 990002.78)\n",
    "i2 = Investor(\"Mike\", 29, 120000)\n",
    "i3 = Investor(\"John\", 30, 990002.78)\n",
    "\n",
    "\n",
    "print(i1) # See, we didn't need to define all the stuff\n",
    "print(i1 == i2)\n",
    "print(i1 == i3)"
   ]
  },
  {
   "cell_type": "code",
   "execution_count": 17,
   "metadata": {},
   "outputs": [
    {
     "name": "stdout",
     "output_type": "stream",
     "text": [
      "Hello John with 0.0 cash\n",
      "False\n",
      "False\n"
     ]
    }
   ],
   "source": [
    "from dataclasses import dataclass, field\n",
    "\n",
    "@dataclass\n",
    "class Investor:\n",
    "    name : str\n",
    "    age : int\n",
    "    cash : float = field(default= 0.0)\n",
    "\n",
    "    def __repr__(self): # Just because it is implemented, doesn't mean we can't override it\n",
    "        return f\"Hello {self.name} with {self.cash} cash\"\n",
    "\n",
    "\n",
    "i1 = Investor(\"John\", 30)\n",
    "i2 = Investor(\"Mike\", 29, 120000)\n",
    "i3 = Investor(\"John\", 30, 990002.78)\n",
    "\n",
    "\n",
    "print(i1) # See, we didn't need to define all the stuff\n",
    "print(i1 == i2)\n",
    "print(i1 == i3)"
   ]
  },
  {
   "attachments": {},
   "cell_type": "markdown",
   "metadata": {},
   "source": [
    "#### But there is a better way. We have fields that we are manipulating."
   ]
  },
  {
   "cell_type": "code",
   "execution_count": 12,
   "metadata": {},
   "outputs": [],
   "source": [
    "from dataclasses import dataclass"
   ]
  },
  {
   "cell_type": "code",
   "execution_count": 15,
   "metadata": {},
   "outputs": [
    {
     "name": "stdout",
     "output_type": "stream",
     "text": [
      "Investor(name='John', age=30)\n",
      "False\n",
      "False\n"
     ]
    }
   ],
   "source": [
    "from dataclasses import dataclass, field\n",
    "\n",
    "@dataclass\n",
    "class Investor:\n",
    "    name : str\n",
    "    age : int\n",
    "    cash : float = field(repr=False) # Now this wont show up in repr\n",
    "\n",
    "\n",
    "i1 = Investor(\"John\", 30, 990002.78)\n",
    "i2 = Investor(\"Mike\", 29, 120000)\n",
    "i3 = Investor(\"John\", 30, \"990002.78\") # See , it didn't give a shit about the Data Type\n",
    "\n",
    "\n",
    "print(i1) # See, we didn't need to define all the stuff\n",
    "print(i1 == i2)\n",
    "print(i1 == i3)"
   ]
  },
  {
   "attachments": {},
   "cell_type": "markdown",
   "metadata": {},
   "source": [
    "#### Ordering in Data classes"
   ]
  },
  {
   "cell_type": "code",
   "execution_count": 18,
   "metadata": {},
   "outputs": [
    {
     "name": "stdout",
     "output_type": "stream",
     "text": [
      "Investor(name='John', age=30, cash=100)\n",
      "False\n"
     ]
    }
   ],
   "source": [
    "from dataclasses import dataclass, field\n",
    "\n",
    "@dataclass(order=True) # Not good enough. WHat if we wanted to check for cash only?\n",
    "class Investor:\n",
    "    name : str\n",
    "    age : int\n",
    "    cash : float = field(repr=True) \n",
    "\n",
    "\n",
    "i1 = Investor(\"John\", 30, 100)\n",
    "i2 = Investor(\"Mike\", 29, 50)\n",
    "i3 = Investor(\"John\", 30, 60) \n",
    "\n",
    "\n",
    "print(i1) \n",
    "print(i1 > i2)\n"
   ]
  },
  {
   "cell_type": "code",
   "execution_count": 19,
   "metadata": {},
   "outputs": [
    {
     "name": "stdout",
     "output_type": "stream",
     "text": [
      "Investor(name='John', age=30, cash=100)\n",
      "True\n"
     ]
    }
   ],
   "source": [
    "from dataclasses import dataclass, field\n",
    "\n",
    "@dataclass(order=True) \n",
    "class Investor:\n",
    "    sort_index : float = field(init=False, repr=False)\n",
    "    name : str\n",
    "    age : int\n",
    "    cash : float = field(repr=True) \n",
    "\n",
    "    def __post_init__(self):\n",
    "        self.sort_index = self.cash\n",
    "\n",
    "i1 = Investor(\"John\", 30, 100)\n",
    "i2 = Investor(\"Mike\", 29, 50)\n",
    "i3 = Investor(\"John\", 30, 60) \n",
    "\n",
    "\n",
    "print(i1) \n",
    "print(i1 > i2)\n"
   ]
  },
  {
   "attachments": {},
   "cell_type": "markdown",
   "metadata": {},
   "source": [
    "#### Hashing "
   ]
  },
  {
   "cell_type": "code",
   "execution_count": 23,
   "metadata": {},
   "outputs": [
    {
     "name": "stdout",
     "output_type": "stream",
     "text": [
      "-5289311049456637142\n",
      "-5289311049456637142\n",
      "-5289311049456637142\n"
     ]
    }
   ],
   "source": [
    "from dataclasses import dataclass, field\n",
    "\n",
    "@dataclass(order=True, unsafe_hash=True) # for allowing hashing ; can also use frozen=True\n",
    "class Investor:\n",
    "    sort_index : float = field(init=False, repr=False, hash = False)\n",
    "    name : str\n",
    "    age : int\n",
    "    cash : float = field(repr=True, hash = False) \n",
    "\n",
    "    def __post_init__(self):\n",
    "        self.sort_index = self.cash\n",
    "\n",
    "i1 = Investor(\"John\", 30, 100)\n",
    "i2 = Investor(\"John\", 30, 23)\n",
    "i3 = Investor(\"John\", 30, 100)\n",
    "\n",
    "\n",
    "\n",
    "print(hash(i1))\n",
    "print(hash(i2))\n",
    "print(hash(i3))\n",
    "\n",
    "# All three end up same even though amount is different because we have suppressed hash \n",
    "# for cash (which is different)\n",
    "\n"
   ]
  },
  {
   "attachments": {},
   "cell_type": "markdown",
   "metadata": {},
   "source": [
    "## B. Pydantic\n",
    "\n",
    "* External Library\n",
    "* More scope for Data Validation"
   ]
  },
  {
   "cell_type": "code",
   "execution_count": 2,
   "metadata": {},
   "outputs": [
    {
     "name": "stdout",
     "output_type": "stream",
     "text": [
      "username='Ravi Prakash' password='12345' age=25 score=678.23 email='ravi.0531.rp@gmail.com' phone_number='8278786655'\n",
      "25\n",
      "{'username': 'Ravi Prakash', 'password': '12345', 'age': 25, 'score': 678.23, 'email': 'ravi.0531.rp@gmail.com', 'phone_number': '8278786655'}\n"
     ]
    }
   ],
   "source": [
    "import pydantic\n",
    "from pydantic import BaseModel\n",
    "from typing import Optional\n",
    "\n",
    "class User(BaseModel):\n",
    "    username : str\n",
    "    password : str\n",
    "    age : int\n",
    "    score : float\n",
    "    email : Optional[str]\n",
    "    phone_number : Optional[str]\n",
    "\n",
    "\n",
    "user1 = User(username = \"Ravi Prakash\", password = \"12345\", age = 25, \n",
    "             score = 678.23, email = \"ravi.0531.rp@gmail.com\", phone_number= \"8278786655\")\n",
    "\n",
    "print(user1)\n",
    "print(user1.age)\n",
    "print(user1.dict())"
   ]
  },
  {
   "attachments": {},
   "cell_type": "markdown",
   "metadata": {},
   "source": [
    "#### Now we wanna validate some fields"
   ]
  },
  {
   "cell_type": "code",
   "execution_count": null,
   "metadata": {},
   "outputs": [],
   "source": [
    "import pydantic\n",
    "from pydantic import BaseModel\n",
    "from typing import Optional\n",
    "\n",
    "class User(BaseModel):\n",
    "    username : str\n",
    "    password : str\n",
    "    age : int\n",
    "    score : float\n",
    "    email : Optional[str]\n",
    "    phone_number : Optional[str]\n",
    "\n",
    "\n",
    "user1 = User(username = \"Ravi Prakash\", password = \"12345\", age = 25, \n",
    "             score = 678.23, email = \"ravi.0531.rp@gmail.com\", phone_number= \"8278786655\")\n",
    "\n",
    "print(user1)\n",
    "print(user1.age)\n",
    "print(user1.dict())"
   ]
  },
  {
   "cell_type": "code",
   "execution_count": null,
   "metadata": {},
   "outputs": [],
   "source": []
  },
  {
   "cell_type": "code",
   "execution_count": null,
   "metadata": {},
   "outputs": [],
   "source": []
  },
  {
   "cell_type": "code",
   "execution_count": null,
   "metadata": {},
   "outputs": [],
   "source": []
  },
  {
   "cell_type": "code",
   "execution_count": null,
   "metadata": {},
   "outputs": [],
   "source": []
  }
 ],
 "metadata": {
  "kernelspec": {
   "display_name": "DataScienceML",
   "language": "python",
   "name": "python3"
  },
  "language_info": {
   "codemirror_mode": {
    "name": "ipython",
    "version": 3
   },
   "file_extension": ".py",
   "mimetype": "text/x-python",
   "name": "python",
   "nbconvert_exporter": "python",
   "pygments_lexer": "ipython3",
   "version": "3.9.15"
  },
  "orig_nbformat": 4
 },
 "nbformat": 4,
 "nbformat_minor": 2
}
