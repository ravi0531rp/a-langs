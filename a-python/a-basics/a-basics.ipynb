{
 "cells": [
  {
   "cell_type": "markdown",
   "metadata": {},
   "source": [
    "### A. Decorators"
   ]
  },
  {
   "cell_type": "code",
   "execution_count": 1,
   "metadata": {},
   "outputs": [],
   "source": [
    "import datetime\n",
    "from loguru import logger\n",
    "import time\n",
    "from functools import wraps"
   ]
  },
  {
   "cell_type": "code",
   "execution_count": 2,
   "metadata": {},
   "outputs": [
    {
     "name": "stdout",
     "output_type": "stream",
     "text": [
      "<function f1 at 0x7ff6dfbb6c10>\n",
      "Called F1\n"
     ]
    }
   ],
   "source": [
    "def f1():\n",
    "    print(\"Called F1\")\n",
    "\n",
    "def f2(f):\n",
    "    f()\n",
    "\n",
    "print(f1) \n",
    "f2(f1) "
   ]
  },
  {
   "cell_type": "code",
   "execution_count": 3,
   "metadata": {},
   "outputs": [
    {
     "name": "stdout",
     "output_type": "stream",
     "text": [
      "This is some work before the func\n",
      "hello\n",
      "This is some work after the func\n"
     ]
    }
   ],
   "source": [
    "def f1(func):\n",
    "    def wrapper():\n",
    "        print(\"This is some work before the func\")\n",
    "        func()\n",
    "        print(\"This is some work after the func\")\n",
    "    return wrapper\n",
    "\n",
    "def f():\n",
    "    print(\"hello\")\n",
    "\n",
    "x= f1(f)  # decorated f with f1\n",
    "x()"
   ]
  },
  {
   "cell_type": "code",
   "execution_count": 4,
   "metadata": {},
   "outputs": [
    {
     "name": "stdout",
     "output_type": "stream",
     "text": [
      "This is some work before the func\n",
      "hello\n",
      "This is some work after the func\n"
     ]
    }
   ],
   "source": [
    "def f1(func):\n",
    "    def wrapper():\n",
    "        print(\"This is some work before the func\")\n",
    "        func()\n",
    "        print(\"This is some work after the func\")\n",
    "    return wrapper\n",
    "    \n",
    "@f1\n",
    "def f():\n",
    "    print(\"hello\")\n",
    "f()"
   ]
  },
  {
   "attachments": {},
   "cell_type": "markdown",
   "metadata": {},
   "source": [
    "#### Some more Examples"
   ]
  },
  {
   "cell_type": "code",
   "execution_count": 5,
   "metadata": {},
   "outputs": [
    {
     "name": "stderr",
     "output_type": "stream",
     "text": [
      "2023-01-03 18:05:53.198 | INFO     | __main__:main:13 - Slept for 2 seconds...\n",
      "2023-01-03 18:05:53.200 | DEBUG    | __main__:wrapper:7 - Time taken is 2.0020303860000013 seconds...\n"
     ]
    }
   ],
   "source": [
    "def timer(function):\n",
    "    @wraps(function) # optional here\n",
    "    def wrapper():\n",
    "        t1 = time.perf_counter()\n",
    "        function()\n",
    "        t2 = time.perf_counter()\n",
    "        logger.debug(f\"Time taken is {t2-t1} seconds...\")\n",
    "    return wrapper\n",
    "\n",
    "@timer\n",
    "def main():\n",
    "    time.sleep(2)\n",
    "    logger.info(\"Slept for 2 seconds...\")\n",
    "\n",
    "main()"
   ]
  },
  {
   "cell_type": "code",
   "execution_count": 15,
   "metadata": {},
   "outputs": [
    {
     "name": "stderr",
     "output_type": "stream",
     "text": [
      "2023-01-03 18:10:57.927 | INFO     | __main__:wrapper:3 - (2,)\n",
      "2023-01-03 18:10:57.929 | INFO     | __main__:wrapper:5 - Successful\n",
      "2023-01-03 18:10:59.934 | INFO     | __main__:main:17 - Slept for 2 seconds with ID 4E4F-H5JJ-3SW1\n",
      "2023-01-03 18:10:59.935 | DEBUG    | __main__:wrapper:11 - Time taken is 2.004814156000009 seconds...\n",
      "2023-01-03 18:10:59.936 | INFO     | __main__:wrapper:3 - (2, '4E4F-H5JJ-3SW1')\n",
      "2023-01-03 18:10:59.937 | INFO     | __main__:wrapper:5 - Successful\n"
     ]
    },
    {
     "name": "stdout",
     "output_type": "stream",
     "text": [
      "++++++++++++++++\n"
     ]
    },
    {
     "name": "stderr",
     "output_type": "stream",
     "text": [
      "2023-01-03 18:11:01.941 | INFO     | __main__:main:17 - Slept for 2 seconds with ID 4E4F-H5JJ-3SW1\n",
      "2023-01-03 18:11:01.942 | DEBUG    | __main__:wrapper:11 - Time taken is 2.0042768420000243 seconds...\n"
     ]
    }
   ],
   "source": [
    "def timer(func):\n",
    "    def wrapper(*args, **kwargs):\n",
    "        logger.info(args)\n",
    "        if args[0] == 2:\n",
    "            logger.info(\"Successful\")\n",
    "        else:\n",
    "            logger.info(\"Failure\")\n",
    "        t1 = time.perf_counter()\n",
    "        func(*args, **kwargs)\n",
    "        t2 = time.perf_counter()\n",
    "        logger.debug(f\"Time taken is {t2-t1} seconds...\")\n",
    "    return wrapper\n",
    "\n",
    "@timer\n",
    "def main(sleep_duration, id = \"3D4F-H5JJ-3SW1\"):\n",
    "    time.sleep(sleep_duration)\n",
    "    logger.info(f\"Slept for {sleep_duration} seconds with ID {id}\")\n",
    "    \n",
    "main(2, id = \"4E4F-H5JJ-3SW1\")\n",
    "print(\"++++++++++++++++\")\n",
    "main(2, \"4E4F-H5JJ-3SW1\") # Note the difference"
   ]
  },
  {
   "cell_type": "code",
   "execution_count": 7,
   "metadata": {},
   "outputs": [
    {
     "name": "stderr",
     "output_type": "stream",
     "text": [
      "2022-09-03 21:21:06.357 | DEBUG    | __main__:wrapper:6 - Time taken is 2.0020410409997567 seconds...\n"
     ]
    },
    {
     "name": "stdout",
     "output_type": "stream",
     "text": [
      "=========\n"
     ]
    },
    {
     "name": "stderr",
     "output_type": "stream",
     "text": [
      "2022-09-03 21:21:08.360 | INFO     | __main__:main:13 - Slept for 2 seconds with ID 3D4F-H5JJ-3SW1\n",
      "2022-09-03 21:21:08.361 | DEBUG    | __main__:wrapper:6 - Time taken is 2.002886285000386 seconds...\n"
     ]
    },
    {
     "data": {
      "text/plain": [
       "0"
      ]
     },
     "execution_count": 7,
     "metadata": {},
     "output_type": "execute_result"
    }
   ],
   "source": [
    "def timer(func):\n",
    "    def wrapper(*args, **kwargs):\n",
    "        t1 = time.perf_counter()\n",
    "        val = func(*args, **kwargs)\n",
    "        t2 = time.perf_counter()\n",
    "        logger.debug(f\"Time taken is {t2-t1} seconds...\")\n",
    "        return val\n",
    "    return wrapper\n",
    "\n",
    "@timer\n",
    "def main(sleep_duration, id = \"3D4F-H5JJ-3SW1\"):\n",
    "    time.sleep(sleep_duration)\n",
    "    logger.info(f\"Slept for {sleep_duration} seconds with ID {id}\")\n",
    "    return 0\n",
    "\n",
    "@timer   \n",
    "def add(x,y):\n",
    "    time.sleep(2)\n",
    "    return x + y\n",
    "\n",
    "add(2,3)\n",
    "print(\"=========\")\n",
    "main(2)"
   ]
  },
  {
   "cell_type": "code",
   "execution_count": null,
   "metadata": {},
   "outputs": [],
   "source": []
  }
 ],
 "metadata": {
  "kernelspec": {
   "display_name": "modelstore-env",
   "language": "python",
   "name": "python3"
  },
  "language_info": {
   "codemirror_mode": {
    "name": "ipython",
    "version": 3
   },
   "file_extension": ".py",
   "mimetype": "text/x-python",
   "name": "python",
   "nbconvert_exporter": "python",
   "pygments_lexer": "ipython3",
   "version": "3.9.12 (main, Jun  1 2022, 06:36:29) \n[Clang 12.0.0 ]"
  },
  "orig_nbformat": 4,
  "vscode": {
   "interpreter": {
    "hash": "415c1f019c91c7c71e92a84d72a78263b1faccb80dbbc9febe4a5dce58d6821b"
   }
  }
 },
 "nbformat": 4,
 "nbformat_minor": 2
}
