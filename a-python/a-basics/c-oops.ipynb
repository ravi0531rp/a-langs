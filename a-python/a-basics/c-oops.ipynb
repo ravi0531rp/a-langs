{
 "cells": [
  {
   "cell_type": "markdown",
   "metadata": {},
   "source": [
    "### Concepts of OOPs\n",
    "\n",
    "1) Encapsulation\n",
    "* If we don't specifically allow, variables from a class can't be accessed from outside.\n",
    "* Encapsulation allows you to hide specific information and control access to the internal state of the object.\n",
    "* If you’re familiar with any object-oriented programming language, you probably know these methods as getter and setter methods.\n",
    "* As the names indicate, a getter method retrieves an attribute and a setter method changes it.\n",
    "\n",
    "<img src=\"https://i.ytimg.com/vi/sNNuVg7qTxk/maxresdefault.jpg\" width=\"500\" height=\"200\" />\n",
    "\n"
   ]
  },
  {
   "cell_type": "markdown",
   "metadata": {},
   "source": [
    "2. Abstraction\n",
    "* Through the process of abstraction, a programmer hides all but the relevant data about an object in order to reduce complexity and increase efficiency.\n",
    "\n",
    "<img src=\"https://www.askpython.com/wp-content/uploads/2020/04/Python-Abstraction.png\" width=\"500\" height=\"200\"  />\n"
   ]
  },
  {
   "cell_type": "markdown",
   "metadata": {},
   "source": [
    "3. Inheritence\n",
    "* Inheritance in OOP = When a class derives from another class.\n",
    "* The child class will inherit all the public and protected properties and methods from the parent class. In addition, it can have its own properties and methods.\n",
    "\n",
    "<img src=\"https://www.learnsimpli.com/wp-content/uploads/2019/03/7.png\" width=\"500\" height=\"200\"  />\n",
    "\n",
    "\n",
    "\n",
    "4) Polymorphism\n",
    "* Describes situations in which something occurs in several different forms. \n",
    "* In computer science, it describes the concept that you can access objects of different types through the same interface. * Each type can provide its own independent implementation of this interface.\n",
    "\n",
    "<img src=\"https://miro.medium.com/max/1204/1*O3AscbbOecJE8kzy3Zip1A.png\" width=\"500\" height=\"200\"  />\n",
    "\n"
   ]
  },
  {
   "cell_type": "code",
   "execution_count": 2,
   "metadata": {},
   "outputs": [
    {
     "name": "stdout",
     "output_type": "stream",
     "text": [
      "ASUS ROG : KQS8d8sd7dbdj7s6s\n"
     ]
    }
   ],
   "source": [
    "class Laptop(object):\n",
    "    def __init__(self, brand, model, ID, GPU, CPU, RAM, price):\n",
    "        self.brand = brand\n",
    "        self.model = model\n",
    "        self.ID = ID\n",
    "        self.GPU = GPU\n",
    "        self.CPU = CPU\n",
    "        self.RAM = RAM\n",
    "        self.price = price\n",
    "\n",
    "    def show_laptop(self):\n",
    "        return f\"{self.brand} {self.model} : {self.ID}\"\n",
    "\n",
    "lap = Laptop(\"ASUS\",\"ROG\",\"KQS8d8sd7dbdj7s6s\", \"RTX3080\", \"Intel i11\", 64, 11200)\n",
    "print(lap.show_laptop())"
   ]
  },
  {
   "cell_type": "markdown",
   "metadata": {},
   "source": [
    "### Types of Variables\n",
    "\n",
    "1) Instance Variables\n",
    "* Separate copy is created in every object!\n",
    "* Defined & initialized via the constructor\n",
    "\n",
    "2) Class/Static Variables\n",
    "* Single copy of these vars is available to all the objects\n",
    "* If we modify the static var of the Class, it will affect all copies.\n",
    "* Define outside the constructor    \n",
    "* Can access via class method (define via @classmethod) inside the class\n",
    "* To access outside the class, use ClassName.var_name syntax"
   ]
  },
  {
   "cell_type": "code",
   "execution_count": 3,
   "metadata": {},
   "outputs": [
    {
     "name": "stdout",
     "output_type": "stream",
     "text": [
      "lap.show_laptop() >> ASUS ROG : KQS8d8sd7dbdj7s6s\n",
      "Laptop.country >> India\n",
      "lap.show_country() >> India\n",
      "lap.country >> India\n",
      "lap2.country >> US\n"
     ]
    }
   ],
   "source": [
    "class Laptop(object):\n",
    "    country = \"India\"  # class variable\n",
    "    def __init__(self, brand, model, ID, GPU, CPU, RAM, price):\n",
    "        self.brand = brand\n",
    "        self.model = model\n",
    "        self.ID = ID\n",
    "        self.GPU = GPU\n",
    "        self.CPU = CPU\n",
    "        self.RAM = RAM\n",
    "        self.price = price\n",
    "\n",
    "    def show_laptop(self):\n",
    "        return f\"{self.brand} {self.model} : {self.ID}\"\n",
    "\n",
    "    @classmethod\n",
    "    def show_country(cls):\n",
    "        return cls.country\n",
    "\n",
    "\n",
    "lap1 = Laptop(\"ASUS\",\"ROG\",\"KQS8d8sd7dbdj7s6s\", \"RTX3080\", \"Intel i11\", 64, 112000)\n",
    "lap2 = Laptop(\"DELL\",\"ALIENWARE\",\"sd699sas8a0s8a07s\", \"RTX3060\", \"Intel i9\", 64, 102000)\n",
    "\n",
    "print(f\"lap.show_laptop() >> {lap1.show_laptop()}\")\n",
    "print(f\"Laptop.country >> {Laptop.country}\")\n",
    "print(f\"lap.show_country() >> {lap1.show_country()}\")\n",
    "print(f\"lap.country >> {lap1.country}\")\n",
    "\n",
    "Laptop.country = \"US\"\n",
    "print(f\"lap2.country >> {lap2.country}\") # got changed to US\n",
    "\n"
   ]
  },
  {
   "cell_type": "markdown",
   "metadata": {},
   "source": [
    "#### Type of Methods\n",
    "\n",
    "1) Instance Methods : Act upon the instance vars of a class. Need to know the instance memory address to execute.\n",
    "* Accessor Methods (Get or Access the var) (Getter)\n",
    "* Mutator Methods (Get , Access or Modify the var) (Setter)\n",
    "\n",
    "2) Class Methods\n",
    "* These methods act on the class/static variables\n",
    "* Need to use @classmethod decorator\n",
    "\n",
    "3) Static Methods\n",
    "* Are used when processing is related to the class but does not need the class or its instances to perform any work.\n",
    "* Use @staticmethod\n",
    "* Like a normal function\n",
    "* We use static methods when we want to pass some values from outside and perfrom some action in the method"
   ]
  },
  {
   "cell_type": "code",
   "execution_count": 4,
   "metadata": {},
   "outputs": [
    {
     "name": "stdout",
     "output_type": "stream",
     "text": [
      "lap.show_laptop() >> ASUS ROG : KQS8d8sd7dbdj7s6s\n",
      "Laptop.country >> India\n",
      "lap.show_country() >> India\n",
      "lap.country >> India\n",
      "lap2.country >> US\n",
      "Laptop.calculate_price(1000,3) >> 3000\n",
      "Laptop.calculate_price_v2(2,3,4,c=3,d=4) >> 288\n",
      "lap2.calculate_price_v2(2,3,4,c=3,d=4) >> 288\n"
     ]
    }
   ],
   "source": [
    "from functools import reduce\n",
    "\n",
    "class Laptop(object):\n",
    "    country = \"India\"  # class variable\n",
    "    def __init__(self, brand, model, ID, GPU, CPU, RAM, price):\n",
    "        self.brand = brand\n",
    "        self.model = model\n",
    "        self.ID = ID\n",
    "        self.GPU = GPU\n",
    "        self.CPU = CPU\n",
    "        self.RAM = RAM\n",
    "        self.price = price\n",
    "\n",
    "    def show_laptop(self):\n",
    "        return f\"{self.brand} {self.model} : {self.ID}\"\n",
    "\n",
    "    @classmethod\n",
    "    def show_country(cls):\n",
    "        return cls.country\n",
    "\n",
    "    @staticmethod\n",
    "    def calculate_price(a,b):\n",
    "        return a*b\n",
    "\n",
    "    @staticmethod\n",
    "    def calculate_price_v2(*args, **kwargs):\n",
    "        a1 = reduce(lambda x,y :x*y , args)\n",
    "        d,c = kwargs['d'], kwargs['c']\n",
    "        return a1*c*d\n",
    "\n",
    "\n",
    "lap1 = Laptop(\"ASUS\",\"ROG\",\"KQS8d8sd7dbdj7s6s\", \"RTX3080\", \"Intel i11\", 64, 112000)\n",
    "lap2 = Laptop(\"DELL\",\"ALIENWARE\",\"sd699sas8a0s8a07s\", \"RTX3060\", \"Intel i9\", 64, 102000)\n",
    "\n",
    "print(f\"lap.show_laptop() >> {lap1.show_laptop()}\")\n",
    "print(f\"Laptop.country >> {Laptop.country}\")\n",
    "print(f\"lap.show_country() >> {lap1.show_country()}\")\n",
    "print(f\"lap.country >> {lap1.country}\")\n",
    "\n",
    "Laptop.country = \"US\"\n",
    "print(f\"lap2.country >> {lap2.country}\") # got changed to US\n",
    "\n",
    "print(f\"Laptop.calculate_price(1000,3) >> {Laptop.calculate_price(1000,3)}\")\n",
    "\n",
    "print(f\"Laptop.calculate_price_v2(2,3,4,c=3,d=4) >> {Laptop.calculate_price_v2(2,3,4,c=3,d=4)}\")\n",
    "\n",
    "print(f\"lap2.calculate_price_v2(2,3,4,c=3,d=4) >> {lap2.calculate_price_v2(2,3,4,c=3,d=4)}\")\n",
    "\n"
   ]
  },
  {
   "cell_type": "markdown",
   "metadata": {},
   "source": [
    "#### Nested Class\n",
    "* Also known as Inner Class\n",
    "* Class within a class\n",
    "\n",
    "* Nested classes enable you to logically group classes that are only used in one place, increase the use of encapsulation, and create more readable and maintainable code."
   ]
  },
  {
   "cell_type": "code",
   "execution_count": 5,
   "metadata": {},
   "outputs": [
    {
     "name": "stdout",
     "output_type": "stream",
     "text": [
      "Name: Green\n",
      "Name: Light Green\n",
      "Code: 024avc\n",
      "Name: Light Red\n",
      "Code: 032bvc\n"
     ]
    }
   ],
   "source": [
    "class Color:\n",
    "  def __init__(self):\n",
    "    self.name = 'Green'\n",
    "    self.lg = self.Lightgreen()\n",
    "    self.lr = self.LightRed()\n",
    "   \n",
    "  def show(self):\n",
    "    print(\"Name:\", self.name)\n",
    "   \n",
    "  class Lightgreen:\n",
    "     def __init__(self):\n",
    "        self.name = 'Light Green'\n",
    "        self.code = '024avc'\n",
    "   \n",
    "     def display(self):\n",
    "        print(\"Name:\", self.name)\n",
    "        print(\"Code:\", self.code)\n",
    "\n",
    "  class LightRed:\n",
    "     def __init__(self):\n",
    "        self.name = 'Light Red'\n",
    "        self.code = '032bvc'\n",
    "   \n",
    "     def display(self):\n",
    "        print(\"Name:\", self.name)\n",
    "        print(\"Code:\", self.code)\n",
    " \n",
    "outer = Color()\n",
    " \n",
    "outer.show()\n",
    " \n",
    "g = outer.lg\n",
    "r = outer.lr\n",
    "\n",
    " \n",
    "g.display()\n",
    "r.display()"
   ]
  },
  {
   "cell_type": "markdown",
   "metadata": {},
   "source": [
    "#### Inheritence\n",
    "* Deriving a new class from existing class such that the new class inherits all the members of the old class.\n",
    "* Like Mercedes, Audi, BMW etc inherit from Car class. They have some differing properties as well, that's normal. \n",
    "* Similarly car class inherits from vehicle class. \n",
    "* Base Class = Old Class = Parent Class = Super Class\n",
    "* New Class = Derived Class = Child Class = Sub Class \n",
    "* All Classes in Python inherit from Object Class\n",
    "\n",
    "* Types of Inheritence\n",
    "    1) Single Level Inheritence : Derived from Only one parent class\n",
    "    \n",
    "    2) Multi-level \n",
    "    \n",
    "    3) Hierarchical \n",
    "    \n",
    "    4) Multiple\n",
    "\n",
    "#### Single Level Inhertience"
   ]
  },
  {
   "cell_type": "code",
   "execution_count": 6,
   "metadata": {},
   "outputs": [
    {
     "name": "stdout",
     "output_type": "stream",
     "text": [
      "c.display() >> CAR\n",
      "c.calculate_density(200000,1000) >> 200.0\n",
      "c.show_details() >> DUMMY : 123002\n",
      "==================================================================\n",
      "bmw.dummy >> DUMMY\n",
      "bmw.display() >> CAR\n",
      "bmw.calculate_density(200000,1000) >> 200.0\n",
      "bmw.show_details() >> DUMMY : 200000\n"
     ]
    }
   ],
   "source": [
    "class Car(object):\n",
    "    vehicle_type = \"CAR\"\n",
    "    n_wheels = 4\n",
    "    def __init__(self, price):\n",
    "        self.price = price\n",
    "        self.dummy = \"DUMMY\"\n",
    "    \n",
    "    @classmethod\n",
    "    def display(cls):\n",
    "        return cls.vehicle_type\n",
    "\n",
    "    @staticmethod\n",
    "    def calculate_density(mass, vol):\n",
    "        return mass/vol\n",
    "\n",
    "    def show_details(self):\n",
    "        return self.dummy + \" : \" + str(self.price)\n",
    "\n",
    "\n",
    "class BMW(Car):\n",
    "    country = \"Germany\"\n",
    "    def __init(self):\n",
    "        self.company  = \"BMW\" \n",
    "    \n",
    "    def show(self):\n",
    "        print(self.company)\n",
    "\n",
    "\n",
    "\n",
    "c = Car(123002)\n",
    "print(f\"c.display() >> {c.display()}\")\n",
    "print(f\"c.calculate_density(200000,1000) >> {c.calculate_density(200000,1000)}\")\n",
    "print(f\"c.show_details() >> {c.show_details()}\")\n",
    "\n",
    "print(\"==================================================================\")\n",
    "bmw = BMW(200000)\n",
    "print(f\"bmw.dummy >> {bmw.dummy}\")\n",
    "print(f\"bmw.display() >> {bmw.display()}\")\n",
    "print(f\"bmw.calculate_density(200000,1000) >> {bmw.calculate_density(200000,1000)}\")\n",
    "print(f\"bmw.show_details() >> {bmw.show_details()}\")\n",
    "\n"
   ]
  },
  {
   "cell_type": "markdown",
   "metadata": {},
   "source": [
    "#### What to do if both classes need constructors\n",
    "\n",
    "* By default, the parent constructor won't be available to child.. Constructor overriding occurs.\n",
    "* Need to use this when we need to change the behaviour of the parent class constructor\n",
    "* \"super\" is used to call parent class constructor or methods via the child class"
   ]
  },
  {
   "cell_type": "code",
   "execution_count": 7,
   "metadata": {},
   "outputs": [
    {
     "name": "stdout",
     "output_type": "stream",
     "text": [
      "c.display() >> YES\n",
      "c.calculate_density(200000,1000) >> 200.0\n",
      "c.show_details() >> 8 : 123002\n",
      "==================================================================\n",
      "car.dummy >> DUMMY\n",
      "car.display() >> YES\n",
      "car.calculate_density(200000,1000) >> 200.0\n",
      "car.show_details() >> 4 : 200000\n",
      "==================================================================\n",
      "Truck\n",
      "truck.dummy >> DUMMY\n",
      "truck.display() >> YES\n",
      "truck.calculate_density(200000,1000) >> 200.0\n",
      "truck.show_details() >> 8 : 200000\n"
     ]
    }
   ],
   "source": [
    "class Vehicle(object):\n",
    "    isMachine = \"YES\"\n",
    "    def __init__(self, price, wheels=8):\n",
    "        self.price = price\n",
    "        self.wheels = wheels\n",
    "        self.dummy = \"DUMMY\"\n",
    "    \n",
    "    @classmethod\n",
    "    def display(cls):\n",
    "        return cls.isMachine\n",
    "\n",
    "    @staticmethod\n",
    "    def calculate_density(mass, vol):\n",
    "        return mass/vol\n",
    "\n",
    "    def show_details(self):\n",
    "        return str(self.wheels) + \" : \" + str(self.price)\n",
    "\n",
    "\n",
    "class Car(Vehicle):\n",
    "    id = \"CARS\"\n",
    "    def __init__(self, price, wheels, brand, model): #, brand, model\n",
    "        super().__init__(price, wheels)\n",
    "        self.model  = model\n",
    "        self.brand = brand\n",
    "    \n",
    "    def show(self):\n",
    "        print(self.id)\n",
    "\n",
    "class Truck(Vehicle):\n",
    "    id = \"TRUCKS\"\n",
    "    def __init__(self, price, brand, model): # we can/ cannot have wheels in this constructor based on our need\n",
    "        super().__init__(price)  # see, we can pick and choose which parent constructor args to pass to parent\n",
    "        self.model  = model\n",
    "        self.brand = brand\n",
    "        print(self.__class__.__name__)\n",
    "    \n",
    "    def show(self):\n",
    "        print(self.id)\n",
    "\n",
    "\n",
    "v = Vehicle(123002, 8)\n",
    "print(f\"c.display() >> {v.display()}\")\n",
    "print(f\"c.calculate_density(200000,1000) >> {v.calculate_density(200000,1000)}\")\n",
    "print(f\"c.show_details() >> {v.show_details()}\")\n",
    "\n",
    "print(\"==================================================================\")\n",
    "\n",
    "car = Car(200000, 4, \"BMW\", \"Q6\")\n",
    "print(f\"car.dummy >> {car.dummy}\")\n",
    "print(f\"car.display() >> {car.display()}\")\n",
    "print(f\"car.calculate_density(200000,1000) >> {car.calculate_density(200000,1000)}\")\n",
    "print(f\"car.show_details() >> {car.show_details()}\")\n",
    "\n",
    "print(\"==================================================================\")\n",
    "\n",
    "truck = Truck(200000, \"VOLVO\", \"V8\")\n",
    "print(f\"truck.dummy >> {truck.dummy}\")\n",
    "print(f\"truck.display() >> {truck.display()}\")\n",
    "print(f\"truck.calculate_density(200000,1000) >> {truck.calculate_density(200000,1000)}\")\n",
    "print(f\"truck.show_details() >> {truck.show_details()}\")\n"
   ]
  },
  {
   "cell_type": "markdown",
   "metadata": {},
   "source": [
    "#### Multiple Inheritence\n",
    "\n",
    "* Uses MRO (Method Resolution Order) ; "
   ]
  },
  {
   "cell_type": "code",
   "execution_count": 8,
   "metadata": {},
   "outputs": [
    {
     "name": "stdout",
     "output_type": "stream",
     "text": [
      "car.display() >> YES\n",
      "car.calculate_density(200000,1000) >> 200.0\n",
      "car.show_details() >> 3000 : Petrol\n",
      "car.display() >> YES\n"
     ]
    },
    {
     "ename": "AttributeError",
     "evalue": "'Car' object has no attribute 'dummy'",
     "output_type": "error",
     "traceback": [
      "\u001b[0;31m---------------------------------------------------------------------------\u001b[0m",
      "\u001b[0;31mAttributeError\u001b[0m                            Traceback (most recent call last)",
      "\u001b[0;32m<ipython-input-8-71c1704a7d56>\u001b[0m in \u001b[0;36m<module>\u001b[0;34m\u001b[0m\n\u001b[1;32m     48\u001b[0m \u001b[0mprint\u001b[0m\u001b[0;34m(\u001b[0m\u001b[0;34mf\"car.show_details() >> {car.show_details()}\"\u001b[0m\u001b[0;34m)\u001b[0m\u001b[0;34m\u001b[0m\u001b[0;34m\u001b[0m\u001b[0m\n\u001b[1;32m     49\u001b[0m \u001b[0mprint\u001b[0m\u001b[0;34m(\u001b[0m\u001b[0;34mf\"car.display() >> {car.display()}\"\u001b[0m\u001b[0;34m)\u001b[0m\u001b[0;34m\u001b[0m\u001b[0;34m\u001b[0m\u001b[0m\n\u001b[0;32m---> 50\u001b[0;31m \u001b[0mprint\u001b[0m\u001b[0;34m(\u001b[0m\u001b[0;34mf\"car.dummy >> {car.dummy}\"\u001b[0m\u001b[0;34m)\u001b[0m\u001b[0;34m\u001b[0m\u001b[0;34m\u001b[0m\u001b[0m\n\u001b[0m\u001b[1;32m     51\u001b[0m \u001b[0;34m\u001b[0m\u001b[0m\n",
      "\u001b[0;31mAttributeError\u001b[0m: 'Car' object has no attribute 'dummy'"
     ]
    }
   ],
   "source": [
    "class Vehicle(object):\n",
    "    isMachine = \"YES\"\n",
    "    def __init__(self, price, wheels=8):\n",
    "        self.price = price\n",
    "        self.wheels = wheels\n",
    "        self.dummy = \"DUMMY\"\n",
    "    \n",
    "    @classmethod\n",
    "    def display(cls):\n",
    "        return cls.isMachine\n",
    "\n",
    "    @staticmethod\n",
    "    def calculate_density(mass, vol):\n",
    "        return mass/vol\n",
    "\n",
    "    def show_details(self):\n",
    "        return str(self.wheels) + \" : \" + str(self.price)\n",
    "\n",
    "class Machine(object):\n",
    "    isARtificial = \"YES\"\n",
    "    def __init__(self, movingparts, power=\"battery\"):\n",
    "        self.movingparts = movingparts\n",
    "        self.power = power\n",
    "    \n",
    "    @classmethod\n",
    "    def display(cls):\n",
    "        return cls.isARtificial\n",
    "\n",
    "    def show_details(self):\n",
    "        return str(self.movingparts) + \" : \" + self.power\n",
    "\n",
    "class Car(Machine, Vehicle):\n",
    "    id = \"CARS\"\n",
    "    def __init__(self, movingparts, power, price, wheels, brand, model): #, brand, model\n",
    "        super().__init__(price, wheels) # for Vehicle\n",
    "        super().__init__(movingparts, power) # for Machine\n",
    "        \n",
    "        self.model  = model\n",
    "        self.brand = brand\n",
    "    \n",
    "    def show(self):\n",
    "        print(self.id)\n",
    "\n",
    "\n",
    "car = Car(3000, \"Petrol\", 200000, 4, \"BMW\", \"Q6\")\n",
    "print(f\"car.display() >> {car.display()}\")\n",
    "print(f\"car.calculate_density(200000,1000) >> {car.calculate_density(200000,1000)}\")\n",
    "print(f\"car.show_details() >> {car.show_details()}\")\n",
    "print(f\"car.display() >> {car.display()}\")\n",
    "print(f\"car.dummy >> {car.dummy}\")\n",
    "\n",
    "\n"
   ]
  },
  {
   "cell_type": "markdown",
   "metadata": {},
   "source": [
    "#### Method Overloading\n",
    "* When more than one method with the same name is defined in a class\n",
    "\n",
    "* Not inheritent in python. Need some jugaad\n",
    "* In python, if a method can perform more than one task based on input"
   ]
  },
  {
   "cell_type": "code",
   "execution_count": 9,
   "metadata": {},
   "outputs": [
    {
     "name": "stdout",
     "output_type": "stream",
     "text": [
      "60\n",
      "30\n",
      "++++++++++++++++\n",
      "0\n"
     ]
    }
   ],
   "source": [
    "from functools import reduce\n",
    "class MyClass:\n",
    "     def sum(self, a=0, b=0, c=0): # provide default values if we want method overloading\n",
    "        s = a+ b + c\n",
    "        return s\n",
    "\n",
    "obj = MyClass()\n",
    "print(obj.sum(10,20,30))\n",
    "print(obj.sum(10,20))\n",
    "\n",
    "print(\"++++++++++++++++\")\n",
    "\n",
    "class MyClass:\n",
    "     def mod(self, *args):\n",
    "        s = reduce(lambda x,y : x%y , args)\n",
    "        return s\n",
    "\n",
    "obj = MyClass()\n",
    "print(obj.mod(10,20,5))\n"
   ]
  },
  {
   "cell_type": "markdown",
   "metadata": {},
   "source": [
    "#### Method Overriding"
   ]
  },
  {
   "cell_type": "code",
   "execution_count": 10,
   "metadata": {},
   "outputs": [
    {
     "data": {
      "text/plain": [
       "1"
      ]
     },
     "execution_count": 10,
     "metadata": {},
     "output_type": "execute_result"
    }
   ],
   "source": [
    "class Parent:\n",
    "    def result(self, x, y):\n",
    "        return x%y\n",
    "\n",
    "class Child(Parent):\n",
    "    def result(self, a, b, c):\n",
    "        return super().result(a, b) % c\n",
    "\n",
    "obj = Child()\n",
    "obj.result(25, 20, 2)"
   ]
  },
  {
   "cell_type": "code",
   "execution_count": null,
   "metadata": {},
   "outputs": [],
   "source": []
  },
  {
   "cell_type": "code",
   "execution_count": null,
   "metadata": {},
   "outputs": [],
   "source": []
  }
 ],
 "metadata": {
  "kernelspec": {
   "display_name": "Python 3.8.9 64-bit",
   "language": "python",
   "name": "python3"
  },
  "language_info": {
   "codemirror_mode": {
    "name": "ipython",
    "version": 3
   },
   "file_extension": ".py",
   "mimetype": "text/x-python",
   "name": "python",
   "nbconvert_exporter": "python",
   "pygments_lexer": "ipython3",
   "version": "3.6.9"
  },
  "orig_nbformat": 4,
  "vscode": {
   "interpreter": {
    "hash": "31f2aee4e71d21fbe5cf8b01ff0e069b9275f58929596ceb00d14d90e3e16cd6"
   }
  }
 },
 "nbformat": 4,
 "nbformat_minor": 2
}
